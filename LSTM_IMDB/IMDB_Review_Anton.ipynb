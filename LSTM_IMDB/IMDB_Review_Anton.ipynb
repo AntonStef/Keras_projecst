{
 "cells": [
  {
   "cell_type": "code",
   "execution_count": 1,
   "metadata": {
    "colab": {
     "base_uri": "https://localhost:8080/",
     "height": 34
    },
    "colab_type": "code",
    "id": "1SsIVcknNlPD",
    "outputId": "5561bf93-1c7b-4499-ad58-4b6593259753"
   },
   "outputs": [
    {
     "name": "stderr",
     "output_type": "stream",
     "text": [
      "Using TensorFlow backend.\n"
     ]
    }
   ],
   "source": [
    "import numpy as np\n",
    "import pandas as pd\n",
    "import matplotlib.pyplot as plt\n",
    "\n",
    "from keras.preprocessing import sequence\n",
    "from keras.preprocessing.text import Tokenizer\n",
    "from sklearn import preprocessing\n",
    "from keras.preprocessing import sequence\n",
    "\n",
    "from keras.models import Sequential\n",
    "from keras.layers import Dense, Activation, Embedding, SpatialDropout1D, MaxPooling1D, Embedding, Conv1D, Flatten, Dropout\n",
    "from keras.layers import Bidirectional, GlobalMaxPool1D, LSTM\n",
    "from keras.optimizers import Adam\n",
    "from sklearn.utils import shuffle\n",
    "from sklearn.metrics import f1_score, confusion_matrix\n",
    "\n",
    "\n",
    "# load data\n",
    "input_file = \"imdb_master.csv\"\n",
    "\n",
    "# comma delimited is the default\n",
    "data = pd.read_csv(input_file, header = 0, encoding='ISO-8859-1', engine='python')"
   ]
  },
  {
   "cell_type": "code",
   "execution_count": 2,
   "metadata": {
    "colab": {
     "base_uri": "https://localhost:8080/",
     "height": 195
    },
    "colab_type": "code",
    "id": "vT2yS03lNlPL",
    "outputId": "0c5058bc-4f8f-435f-9c9b-c7f2985d0505"
   },
   "outputs": [
    {
     "data": {
      "text/html": [
       "<div>\n",
       "<style scoped>\n",
       "    .dataframe tbody tr th:only-of-type {\n",
       "        vertical-align: middle;\n",
       "    }\n",
       "\n",
       "    .dataframe tbody tr th {\n",
       "        vertical-align: top;\n",
       "    }\n",
       "\n",
       "    .dataframe thead th {\n",
       "        text-align: right;\n",
       "    }\n",
       "</style>\n",
       "<table border=\"1\" class=\"dataframe\">\n",
       "  <thead>\n",
       "    <tr style=\"text-align: right;\">\n",
       "      <th></th>\n",
       "      <th>Unnamed: 0</th>\n",
       "      <th>type</th>\n",
       "      <th>review</th>\n",
       "      <th>label</th>\n",
       "      <th>file</th>\n",
       "    </tr>\n",
       "  </thead>\n",
       "  <tbody>\n",
       "    <tr>\n",
       "      <th>0</th>\n",
       "      <td>0</td>\n",
       "      <td>test</td>\n",
       "      <td>Once again Mr. Costner has dragged out a movie...</td>\n",
       "      <td>neg</td>\n",
       "      <td>0_2.txt</td>\n",
       "    </tr>\n",
       "    <tr>\n",
       "      <th>1</th>\n",
       "      <td>1</td>\n",
       "      <td>test</td>\n",
       "      <td>This is an example of why the majority of acti...</td>\n",
       "      <td>neg</td>\n",
       "      <td>10000_4.txt</td>\n",
       "    </tr>\n",
       "    <tr>\n",
       "      <th>2</th>\n",
       "      <td>2</td>\n",
       "      <td>test</td>\n",
       "      <td>First of all I hate those moronic rappers, who...</td>\n",
       "      <td>neg</td>\n",
       "      <td>10001_1.txt</td>\n",
       "    </tr>\n",
       "    <tr>\n",
       "      <th>3</th>\n",
       "      <td>3</td>\n",
       "      <td>test</td>\n",
       "      <td>Not even the Beatles could write songs everyon...</td>\n",
       "      <td>neg</td>\n",
       "      <td>10002_3.txt</td>\n",
       "    </tr>\n",
       "    <tr>\n",
       "      <th>4</th>\n",
       "      <td>4</td>\n",
       "      <td>test</td>\n",
       "      <td>Brass pictures (movies is not a fitting word f...</td>\n",
       "      <td>neg</td>\n",
       "      <td>10003_3.txt</td>\n",
       "    </tr>\n",
       "  </tbody>\n",
       "</table>\n",
       "</div>"
      ],
      "text/plain": [
       "   Unnamed: 0  type                                             review label  \\\n",
       "0           0  test  Once again Mr. Costner has dragged out a movie...   neg   \n",
       "1           1  test  This is an example of why the majority of acti...   neg   \n",
       "2           2  test  First of all I hate those moronic rappers, who...   neg   \n",
       "3           3  test  Not even the Beatles could write songs everyon...   neg   \n",
       "4           4  test  Brass pictures (movies is not a fitting word f...   neg   \n",
       "\n",
       "          file  \n",
       "0      0_2.txt  \n",
       "1  10000_4.txt  \n",
       "2  10001_1.txt  \n",
       "3  10002_3.txt  \n",
       "4  10003_3.txt  "
      ]
     },
     "execution_count": 2,
     "metadata": {
      "tags": []
     },
     "output_type": "execute_result"
    }
   ],
   "source": [
    "# show data\n",
    "data.head()"
   ]
  },
  {
   "cell_type": "code",
   "execution_count": 0,
   "metadata": {
    "colab": {},
    "colab_type": "code",
    "id": "kdv8opCkNlPU"
   },
   "outputs": [],
   "source": [
    "# we will divide data on train and test sets\n",
    "\n",
    "indexes_train = np.where(data['type'] == 'train')\n",
    "indexes_test = np.where(data['type'] == 'test')\n",
    "\n",
    "X_train = data['review'][indexes_train[0]].values\n",
    "Y_train = data['label'][indexes_train[0]].values\n",
    "\n",
    "X_test = data['review'][indexes_test[0]].values\n",
    "Y_test = data['label'][indexes_test[0]].values\n"
   ]
  },
  {
   "cell_type": "code",
   "execution_count": 0,
   "metadata": {
    "colab": {},
    "colab_type": "code",
    "id": "VxjSg-amNlPW"
   },
   "outputs": [],
   "source": [
    "# certain indices of positive and negative reviews\n",
    "\n",
    "index_unsup = np.where(Y_train == 'unsup')\n",
    "Y_train = np.delete(Y_train, index_unsup)\n",
    "X_train = np.delete(X_train, index_unsup)"
   ]
  },
  {
   "cell_type": "code",
   "execution_count": 5,
   "metadata": {
    "colab": {
     "base_uri": "https://localhost:8080/",
     "height": 54
    },
    "colab_type": "code",
    "id": "Wpp9bizaNlPZ",
    "outputId": "8dd3f089-2d78-4572-c7dd-9b27b7193fee"
   },
   "outputs": [
    {
     "data": {
      "text/plain": [
       "'When the comedy channel comes out with content like this, it makes me wonder why the Canadian government forces channels to have Canadian content. Because that is the only explanation as to why this show ever existed... As filler to appease the law so the Comedy channel would have \"Canadian\" shows on.<br /><br />Frankly the writers are probably the worst in the history of television. If I could send them an open letter, it would beg them to retire immediately and move to Slovenia where the locals might find their off-topic humour funny.<br /><br />The case is even worse too. Elvira Kurt is painful as the host, standing there saying line one liners and praying for the audience to laugh. She should never return to television in any way shape or form. In fact, she should be the one paddling the boat of writers to Slovenia. The rest of the case should swim alongside it, because they don\\'t even deserve a seat in the boat.<br /><br />Bad, no name guests, bad questions, bad casting, bad writing. You\\'d have to live in a box to have let this show run for more than one season, or you really really hate your viewers. Your pick.<br /><br />If there is divine justice, god will strike down this show.'"
      ]
     },
     "execution_count": 5,
     "metadata": {
      "tags": []
     },
     "output_type": "execute_result"
    }
   ],
   "source": [
    "# example review\n",
    "data['review'][55000]"
   ]
  },
  {
   "cell_type": "code",
   "execution_count": 6,
   "metadata": {
    "colab": {
     "base_uri": "https://localhost:8080/",
     "height": 362
    },
    "colab_type": "code",
    "id": "BHirxqiYNlPe",
    "outputId": "c4309cc2-a73b-4965-ad97-a30f4f019509"
   },
   "outputs": [
    {
     "data": {
      "image/png": "[encoded data removed]",
      "text/plain": [
       "<Figure size 576x396 with 2 Axes>"
      ]
     },
     "metadata": {
      "tags": []
     },
     "output_type": "display_data"
    }
   ],
   "source": [
    "# Analysis of the test and training sample\n",
    "\n",
    "def buil_hist(data):\n",
    "    lenf_data = []\n",
    "    for i in data:\n",
    "        lenf_data.append(i)\n",
    "    return lenf_data\n",
    "    \n",
    "lenf_train = buil_hist(Y_train)\n",
    "lenf_test = buil_hist(Y_test)   \n",
    "\n",
    "plt.subplot(1, 2, 1)\n",
    "plt.title('Train')\n",
    "plt.hist(lenf_train)\n",
    "plt.subplot(1, 2, 2)\n",
    "plt.hist(lenf_test)\n",
    "plt.title('Test')\n",
    "plt.show()\n"
   ]
  },
  {
   "cell_type": "code",
   "execution_count": 7,
   "metadata": {
    "colab": {
     "base_uri": "https://localhost:8080/",
     "height": 87
    },
    "colab_type": "code",
    "id": "bBUo-NMZNlPh",
    "outputId": "52242e76-b1ad-4160-b5c7-953b0d700f39"
   },
   "outputs": [
    {
     "name": "stdout",
     "output_type": "stream",
     "text": [
      "Lisr unique labels: ['neg' 'pos']\n",
      "0 \n",
      " Now, I won't deny that when I purchased this off eBay, I had high expectations. This was an incredible out-of-print work from the master of comedy that I so enjoy. However, I was soon to be disappointed. Apologies to those who enjoyed it, but I just found the Compleat Al to be very difficult to watch. I got a few smiles, sure, but the majority of the funny came from the music videos (which I've got on DVD) and the rest was basically filler. You could tell that this was not Al's greatest video achievement (that honor goes to UHF). Honestly, I doubt if this will ever make the jump to DVD, so if you're an ultra-hardcore Al fan and just HAVE to own everything, buy the tape off eBay. Just don't pay too much for it.\n"
     ]
    }
   ],
   "source": [
    "# transform catecorical labels in num labels\n",
    "le = preprocessing.LabelEncoder()\n",
    "le.fit(Y_train)\n",
    "\n",
    "print('Lisr unique labels: {}'.format(le.classes_))\n",
    "\n",
    "Y_train_encod = le.transform(Y_train) \n",
    "Y_test_encod = le.transform(Y_test) \n",
    "\n",
    "# inverse transform\n",
    "# list(le.inverse_transform(Y_test_encod))\n",
    "\n",
    "# shufle train data set\n",
    "X_train, Y_train_encod = shuffle(X_train, Y_train_encod)\n",
    "\n",
    "# check a shuffle\n",
    "print(Y_train_encod[10], '\\n', X_train[10])"
   ]
  },
  {
   "cell_type": "code",
   "execution_count": 8,
   "metadata": {
    "colab": {
     "base_uri": "https://localhost:8080/",
     "height": 87
    },
    "colab_type": "code",
    "id": "18z-iOmFNlPl",
    "outputId": "e4c4415b-d5ec-4fdf-afd2-387d3a9ed800"
   },
   "outputs": [
    {
     "name": "stdout",
     "output_type": "stream",
     "text": [
      "WARNING:tensorflow:From /usr/local/lib/python3.6/dist-packages/tensorflow/python/framework/op_def_library.py:263: colocate_with (from tensorflow.python.framework.ops) is deprecated and will be removed in a future version.\n",
      "Instructions for updating:\n",
      "Colocations handled automatically by placer.\n"
     ]
    }
   ],
   "source": [
    "# HYPERPARAMETERS\n",
    "max_features = 10000\n",
    "maxlen = 100\n",
    "embedding_dimenssion = 100\n",
    "\n",
    "VALIDATION_SPLIT = 0.1\n",
    "CLASSES = 1\n",
    "NB_EPOCH = 20\n",
    "BATCH_SIZE = 64\n",
    "OPTIMIZER = Adam(lr=0.001)\n",
    "\n",
    "# Tokenization and encoding text corpus\n",
    "tk = Tokenizer(num_words=max_features)\n",
    "tk.fit_on_texts(X_train)\n",
    "X_train_en = tk.texts_to_sequences(X_train)\n",
    "X_test_en = tk.texts_to_sequences(X_test)\n",
    "\n",
    "# dictionaries\n",
    "word2index = tk.word_index\n",
    "index2word = tk.index_word"
   ]
  },
  {
   "cell_type": "code",
   "execution_count": 9,
   "metadata": {
    "colab": {
     "base_uri": "https://localhost:8080/",
     "height": 154
    },
    "colab_type": "code",
    "id": "_XtKCxjdNlPn",
    "outputId": "59b55c95-943c-42ff-965f-77283e8fe535"
   },
   "outputs": [
    {
     "name": "stdout",
     "output_type": "stream",
     "text": [
      "Orginal \n",
      "Revolutions always present opportunities for dramatic films since, in fact, most revolutions are in themselves dramatic events. Unfortunately, what this film lacks in drama is compensated for by an overabundance of boredom. One cares not who wins, loses, dies or lives--just end it as soon as possible. This is due in large measure to what seems to me to be a superficial use of background technology. Scenes of Paris and the French countryside have a cardboard quality about them. They might better be done on a bare stage and left that way. One cannot expect the amazing effects of \"The House of the Flying Daggers\" or \"The Golden Compass,\" but , after all, this is a 2002 digitally mastered production. Characters seem to enter a scene for the sake of entering a scene, so much so that one loses count of the number of times character enter and leave rooms. In my view, this film turns the French Revolution of the 1790s into the \"papier-mache\" revolution of a \"papier colle\" world.\n",
      "\n",
      "Decoding\n",
      "always present opportunities for dramatic films since in fact most are in themselves dramatic events unfortunately what this film lacks in drama is for by an of boredom one cares not who wins loses dies or lives just end it as soon as possible this is due in large measure to what seems to me to be a superficial use of background technology scenes of paris and the french countryside have a cardboard quality about them they might better be done on a bare stage and left that way one cannot expect the amazing effects of the house of the flying or the golden but after all this is a 2002 production characters seem to enter a scene for the sake of entering a scene so much so that one loses count of the number of times character enter and leave rooms in my view this film turns the french revolution of the into the revolution of a world \n",
      "Проверка верности кодировки. Нажми продолжить для продолжения\n"
     ]
    },
    {
     "data": {
      "text/plain": [
       "''"
      ]
     },
     "execution_count": 9,
     "metadata": {
      "tags": []
     },
     "output_type": "execute_result"
    }
   ],
   "source": [
    "# check the correctness of the encoding\n",
    "print('Orginal \\n{}'.format(X_train[2]))\n",
    "\n",
    "print('\\nDecoding')\n",
    "for index in X_train_en[2]:\n",
    "    x = index2word.get(index)\n",
    "    print(x, end=' ')\n",
    "input('\\nПроверка верности кодировки. Нажми продолжить для продолжения')"
   ]
  },
  {
   "cell_type": "code",
   "execution_count": 10,
   "metadata": {
    "colab": {
     "base_uri": "https://localhost:8080/",
     "height": 362
    },
    "colab_type": "code",
    "id": "enp690GCNlPs",
    "outputId": "f14ec71c-7a81-4d7d-897e-8be1628541df"
   },
   "outputs": [
    {
     "data": {
      "image/png": "[encoded data removed]",
      "text/plain": [
       "<Figure size 576x396 with 1 Axes>"
      ]
     },
     "metadata": {
      "tags": []
     },
     "output_type": "display_data"
    }
   ],
   "source": [
    "# Аnalysis of the length of each review\n",
    "lenf_reviews = list(map(len, X_train_en))\n",
    "\n",
    "plt.hist(lenf_reviews)\n",
    "plt.title('lenf_reviews')\n",
    "plt.show()\n"
   ]
  },
  {
   "cell_type": "code",
   "execution_count": 11,
   "metadata": {
    "colab": {
     "base_uri": "https://localhost:8080/",
     "height": 118
    },
    "colab_type": "code",
    "id": "XBE3PBKtNlPv",
    "outputId": "c69dea5b-ccbe-48a0-90ea-71396e601505"
   },
   "outputs": [
    {
     "name": "stdout",
     "output_type": "stream",
     "text": [
      "\n",
      "Led examples of texts to the general dimension. Click continue to continue\n",
      "Found 400,000 word vectors in GloVe.\n",
      "\n",
      "Loaded the pre-trained word vectors in English: Click continue to continue\n"
     ]
    },
    {
     "data": {
      "text/plain": [
       "''"
      ]
     },
     "execution_count": 11,
     "metadata": {
      "tags": []
     },
     "output_type": "execute_result"
    }
   ],
   "source": [
    "# import os\n",
    "# os.listdir('../../../___In_works/Glove')\n",
    "\n",
    "# we give feedback to the same dimension\n",
    "X_train_new = sequence.pad_sequences(X_train_en, maxlen=maxlen)\n",
    "X_test_new = sequence.pad_sequences(X_test_en, maxlen=maxlen)\n",
    "input('\\nLed examples of texts to the general dimension. Click continue to continue')\n",
    "\n",
    "# path to the pre-trained word vectors or download the link\n",
    "# https://nlp.stanford.edu/projects/glove/\n",
    "glove_dir = ''.join(['../../../___In_works/Glove/glove.6B.', str(embedding_dimenssion),'d.txt']) # This is the folder with the dataset\n",
    "\n",
    "embeddings_index = {} # We create a dictionary of word -> embedding\n",
    "\n",
    "with open(glove_dir, encoding='utf-8') as f:\n",
    "    for line in f:\n",
    "        values = line.split()\n",
    "        word = values[0] # The first value is the word, the rest are the values of the embedding\n",
    "        embedding = np.asarray(values[1:], dtype='float32') # Load embedding\n",
    "        embeddings_index[word] = embedding # Add embedding to our embedding dictionary\n",
    "\n",
    "print('Found {:,} word vectors in GloVe.'.format(len(embeddings_index)))\n",
    "input('\\nLoaded the pre-trained word vectors in English: Click continue to continue')"
   ]
  },
  {
   "cell_type": "code",
   "execution_count": 12,
   "metadata": {
    "colab": {
     "base_uri": "https://localhost:8080/",
     "height": 50
    },
    "colab_type": "code",
    "id": "X_FGvvPuNlPz",
    "outputId": "9571aa96-2389-4ade-9e70-247d4ef4955d"
   },
   "outputs": [
    {
     "name": "stdout",
     "output_type": "stream",
     "text": [
      "Creating your own dictionary of word vectors from Glove is over. Click continue.\n"
     ]
    },
    {
     "data": {
      "text/plain": [
       "''"
      ]
     },
     "execution_count": 12,
     "metadata": {
      "tags": []
     },
     "output_type": "execute_result"
    }
   ],
   "source": [
    "embedding_matrix = np.zeros((max_features, embedding_dimenssion))\n",
    "\n",
    "# The vectors need to be in the same position as their index.\n",
    "# Meaning a word with token 1 needs to be in the second row (rows start with zero) and so on\n",
    "\n",
    "# Loop over all words in the word index\n",
    "for word, i in word2index.items():\n",
    "    # If we are above the amount of words we want to use we do nothing\n",
    "    if i >= max_features:\n",
    "        break\n",
    "    # Get the embedding vector for the word\n",
    "    embedding_vector = embeddings_index.get(word)\n",
    "    # If there is an embedding vector, put it in the embedding matrix\n",
    "    if embedding_vector is not None:\n",
    "        embedding_matrix[i] = embedding_vector\n",
    "input('Creating your own dictionary of word vectors from Glove is over. Click continue.')"
   ]
  },
  {
   "cell_type": "code",
   "execution_count": 13,
   "metadata": {
    "colab": {
     "base_uri": "https://localhost:8080/",
     "height": 34
    },
    "colab_type": "code",
    "id": "nrlIjw7INlP3",
    "outputId": "fb7cfda1-5899-4df7-ef15-b4eb5be96179"
   },
   "outputs": [
    {
     "name": "stdout",
     "output_type": "stream",
     "text": [
      "(10000, 100) (25000, 100) (25000,) (25000, 100) (25000,)\n"
     ]
    }
   ],
   "source": [
    "# checking the dimension of arrays\n",
    "print(embedding_matrix.shape, X_train_new.shape, Y_train_encod.shape, X_test_new.shape, Y_test_encod.shape)"
   ]
  },
  {
   "cell_type": "code",
   "execution_count": 22,
   "metadata": {
    "colab": {
     "base_uri": "https://localhost:8080/",
     "height": 638
    },
    "colab_type": "code",
    "id": "WG8v1dmci2nP",
    "outputId": "e4aa9490-8e3c-4c97-8fb2-4e7f7a60bbd7"
   },
   "outputs": [
    {
     "name": "stdout",
     "output_type": "stream",
     "text": [
      "_________________________________________________________________\n",
      "Layer (type)                 Output Shape              Param #   \n",
      "=================================================================\n",
      "embedding_6 (Embedding)      (None, 100, 100)          1000000   \n",
      "_________________________________________________________________\n",
      "lstm_4 (LSTM)                (None, 125)               113000    \n",
      "_________________________________________________________________\n",
      "dense_9 (Dense)              (None, 1)                 126       \n",
      "=================================================================\n",
      "Total params: 1,113,126\n",
      "Trainable params: 113,126\n",
      "Non-trainable params: 1,000,000\n",
      "_________________________________________________________________\n",
      "Train on 22500 samples, validate on 2500 samples\n",
      "Epoch 1/10\n",
      "22500/22500 [==============================] - 100s 4ms/step - loss: 0.5270 - acc: 0.7237 - val_loss: 0.4175 - val_acc: 0.7980\n",
      "Epoch 2/10\n",
      "22500/22500 [==============================] - 97s 4ms/step - loss: 0.4122 - acc: 0.8087 - val_loss: 0.3898 - val_acc: 0.8284\n",
      "Epoch 3/10\n",
      "22500/22500 [==============================] - 103s 5ms/step - loss: 0.3810 - acc: 0.8256 - val_loss: 0.3667 - val_acc: 0.8352\n",
      "Epoch 4/10\n",
      "22500/22500 [==============================] - 107s 5ms/step - loss: 0.3623 - acc: 0.8345 - val_loss: 0.3834 - val_acc: 0.8256\n",
      "Epoch 5/10\n",
      "22500/22500 [==============================] - 107s 5ms/step - loss: 0.3425 - acc: 0.8480 - val_loss: 0.3553 - val_acc: 0.8460\n",
      "Epoch 6/10\n",
      "22500/22500 [==============================] - 107s 5ms/step - loss: 0.3286 - acc: 0.8541 - val_loss: 0.3464 - val_acc: 0.8512\n",
      "Epoch 7/10\n",
      "22500/22500 [==============================] - 102s 5ms/step - loss: 0.3127 - acc: 0.8656 - val_loss: 0.3420 - val_acc: 0.8556\n",
      "Epoch 8/10\n",
      "22500/22500 [==============================] - 101s 4ms/step - loss: 0.3014 - acc: 0.8683 - val_loss: 0.3406 - val_acc: 0.8580\n",
      "Epoch 9/10\n",
      "22500/22500 [==============================] - 104s 5ms/step - loss: 0.2863 - acc: 0.8771 - val_loss: 0.3463 - val_acc: 0.8572\n",
      "Epoch 10/10\n",
      "22500/22500 [==============================] - 101s 5ms/step - loss: 0.2794 - acc: 0.8787 - val_loss: 0.3467 - val_acc: 0.8528\n",
      "25000/25000 [==============================] - 41s 2ms/step\n",
      "losses: 0.3325570691204071\n",
      "TEST accuracy: 0.85236\n"
     ]
    }
   ],
   "source": [
    "input('Click continue to learn the model')\n",
    "\n",
    "model = Sequential()\n",
    "\n",
    "# LSTM version 1\n",
    "model.add(Embedding(max_features, embedding_dimenssion, input_length=maxlen,\n",
    "                    weights=[embedding_matrix], trainable=False))\n",
    "model.add(LSTM(125, dropout=0.2, recurrent_dropout=0.2))\n",
    "model.add(Dense(1, activation=\"sigmoid\"))\n",
    "model.summary()\n",
    "\n",
    "\n",
    "# compile the model\n",
    "\n",
    "model.compile(loss='binary_crossentropy', optimizer=OPTIMIZER, metrics=['accuracy'])\n",
    "\n",
    "# train model\n",
    "model.fit(X_train_new, Y_train_encod, batch_size=BATCH_SIZE, epochs=10, validation_split=VALIDATION_SPLIT, verbose=1)\n",
    "\n",
    "# evaluate the quality of the system using accuracy\n",
    "scores = model.evaluate(X_test_new, Y_test_encod)\n",
    "print('losses: {}'.format(scores[0]))\n",
    "print('TEST accuracy: {}'.format(scores[1]))"
   ]
  },
  {
   "cell_type": "code",
   "execution_count": 18,
   "metadata": {
    "colab": {
     "base_uri": "https://localhost:8080/",
     "height": 860
    },
    "colab_type": "code",
    "id": "FEMlXjyMNlP6",
    "outputId": "27dc7f64-517d-40e4-b25f-c6ddf15e56a1"
   },
   "outputs": [
    {
     "name": "stdout",
     "output_type": "stream",
     "text": [
      "Click continue to learn the model\n",
      "_________________________________________________________________\n",
      "Layer (type)                 Output Shape              Param #   \n",
      "=================================================================\n",
      "embedding_5 (Embedding)      (None, 100, 100)          1000000   \n",
      "_________________________________________________________________\n",
      "spatial_dropout1d_3 (Spatial (None, 100, 100)          0         \n",
      "_________________________________________________________________\n",
      "bidirectional_3 (Bidirection (None, 100, 64)           34048     \n",
      "_________________________________________________________________\n",
      "global_max_pooling1d_3 (Glob (None, 64)                0         \n",
      "_________________________________________________________________\n",
      "dense_7 (Dense)              (None, 20)                1300      \n",
      "_________________________________________________________________\n",
      "dropout_5 (Dropout)          (None, 20)                0         \n",
      "_________________________________________________________________\n",
      "dense_8 (Dense)              (None, 1)                 21        \n",
      "=================================================================\n",
      "Total params: 1,035,369\n",
      "Trainable params: 35,369\n",
      "Non-trainable params: 1,000,000\n",
      "_________________________________________________________________\n",
      "WARNING:tensorflow:From /usr/local/lib/python3.6/dist-packages/tensorflow/python/ops/math_grad.py:102: div (from tensorflow.python.ops.math_ops) is deprecated and will be removed in a future version.\n",
      "Instructions for updating:\n",
      "Deprecated in favor of operator or tf.math.divide.\n",
      "Train on 22500 samples, validate on 2500 samples\n",
      "Epoch 1/10\n",
      "22500/22500 [==============================] - 54s 2ms/step - loss: 0.5186 - acc: 0.7316 - val_loss: 0.4087 - val_acc: 0.8152\n",
      "Epoch 2/10\n",
      "22500/22500 [==============================] - 53s 2ms/step - loss: 0.4120 - acc: 0.8105 - val_loss: 0.3718 - val_acc: 0.8348\n",
      "Epoch 3/10\n",
      "22500/22500 [==============================] - 52s 2ms/step - loss: 0.3756 - acc: 0.8303 - val_loss: 0.3575 - val_acc: 0.8424\n",
      "Epoch 4/10\n",
      "22500/22500 [==============================] - 50s 2ms/step - loss: 0.3519 - acc: 0.8447 - val_loss: 0.3588 - val_acc: 0.8432\n",
      "Epoch 5/10\n",
      "22500/22500 [==============================] - 49s 2ms/step - loss: 0.3349 - acc: 0.8541 - val_loss: 0.3419 - val_acc: 0.8536\n",
      "Epoch 6/10\n",
      "22500/22500 [==============================] - 49s 2ms/step - loss: 0.3208 - acc: 0.8632 - val_loss: 0.3393 - val_acc: 0.8564\n",
      "Epoch 7/10\n",
      "22500/22500 [==============================] - 49s 2ms/step - loss: 0.3123 - acc: 0.8624 - val_loss: 0.3408 - val_acc: 0.8568\n",
      "Epoch 8/10\n",
      "22500/22500 [==============================] - 49s 2ms/step - loss: 0.3020 - acc: 0.8691 - val_loss: 0.3333 - val_acc: 0.8592\n",
      "Epoch 9/10\n",
      "22500/22500 [==============================] - 47s 2ms/step - loss: 0.2952 - acc: 0.8743 - val_loss: 0.3343 - val_acc: 0.8600\n",
      "Epoch 10/10\n",
      "22500/22500 [==============================] - 48s 2ms/step - loss: 0.2841 - acc: 0.8804 - val_loss: 0.3399 - val_acc: 0.8620\n",
      "25000/25000 [==============================] - 20s 792us/step\n",
      "losses: 0.3342300807309151\n",
      "TEST accuracy: 0.85444\n"
     ]
    }
   ],
   "source": [
    "input('Click continue to learn the model')\n",
    "\n",
    "model = Sequential()\n",
    "\n",
    "# LSTM version 2\n",
    "model.add(Embedding(max_features, embedding_dimenssion, input_length=maxlen,\n",
    "                    weights=[embedding_matrix], trainable=False))\n",
    "model.add(SpatialDropout1D(0.2))\n",
    "model.add(Bidirectional(LSTM(32, return_sequences = True)))\n",
    "model.add(GlobalMaxPool1D())\n",
    "model.add(Dense(20, activation=\"relu\"))\n",
    "model.add(Dropout(0.05))\n",
    "model.add(Dense(1, activation=\"sigmoid\"))\n",
    "model.summary()\n",
    "\n",
    "# compile the model\n",
    "\n",
    "model.compile(loss='binary_crossentropy', optimizer=OPTIMIZER, metrics=['accuracy'])\n",
    "\n",
    "# train model\n",
    "model.fit(X_train_new, Y_train_encod, batch_size=BATCH_SIZE, epochs=10, validation_split=VALIDATION_SPLIT, verbose=1)\n",
    "\n",
    "# evaluate the quality of the system using accuracy\n",
    "scores = model.evaluate(X_test_new, Y_test_encod)\n",
    "print('losses: {}'.format(scores[0]))\n",
    "print('TEST accuracy: {}'.format(scores[1]))\n"
   ]
  },
  {
   "cell_type": "code",
   "execution_count": 0,
   "metadata": {
    "colab": {},
    "colab_type": "code",
    "id": "l3QUoRLUNlQH"
   },
   "outputs": [],
   "source": [
    "# predicted labels on test\n",
    "Y_predicted_test = model.predict_classes(X_test_new)"
   ]
  },
  {
   "cell_type": "code",
   "execution_count": 21,
   "metadata": {
    "colab": {
     "base_uri": "https://localhost:8080/",
     "height": 84
    },
    "colab_type": "code",
    "id": "a9uzokBVNlQL",
    "outputId": "2dd66668-e94a-4211-94bc-e496af51ed81"
   },
   "outputs": [
    {
     "name": "stdout",
     "output_type": "stream",
     "text": [
      "F1-score: 0.8601621642393268\n",
      "Confusion matrix:\n"
     ]
    },
    {
     "data": {
      "text/plain": [
       "array([[10169,  1308],\n",
       "       [ 2331, 11192]])"
      ]
     },
     "execution_count": 21,
     "metadata": {
      "tags": []
     },
     "output_type": "execute_result"
    }
   ],
   "source": [
    "# evaluate the quality of the system using f1-score and confusion matrix\n",
    "print('F1-score: {0}'.format(f1_score(Y_predicted_test, Y_test_encod)))\n",
    "print('Confusion matrix:')\n",
    "confusion_matrix(Y_predicted_test, Y_test_encod)"
   ]
  }
 ],
 "metadata": {
  "colab": {
   "collapsed_sections": [],
   "name": "IMDB_Review_Anton.ipynb",
   "provenance": [],
   "version": "0.3.2"
  },
  "kernelspec": {
   "display_name": "Python 3",
   "language": "python",
   "name": "python3"
  },
  "language_info": {
   "codemirror_mode": {
    "name": "ipython",
    "version": 3
   },
   "file_extension": ".py",
   "mimetype": "text/x-python",
   "name": "python",
   "nbconvert_exporter": "python",
   "pygments_lexer": "ipython3",
   "version": "3.6.5"
  }
 },
 "nbformat": 4,
 "nbformat_minor": 1
}
